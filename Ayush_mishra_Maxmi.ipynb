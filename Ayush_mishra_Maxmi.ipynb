{
  "nbformat": 4,
  "nbformat_minor": 0,
  "metadata": {
    "colab": {
      "name": "Ayush_mishra_Maxmi.ipynb",
      "provenance": [],
      "authorship_tag": "ABX9TyMyTeGgaolPb9satRWyuUaD",
      "include_colab_link": true
    },
    "kernelspec": {
      "name": "python3",
      "display_name": "Python 3"
    }
  },
  "cells": [
    {
      "cell_type": "markdown",
      "metadata": {
        "id": "view-in-github",
        "colab_type": "text"
      },
      "source": [
        "<a href=\"https://colab.research.google.com/github/Ayushmishra7355/Maxmiml/blob/main/Ayush_mishra_Maxmi.ipynb\" target=\"_parent\"><img src=\"https://colab.research.google.com/assets/colab-badge.svg\" alt=\"Open In Colab\"/></a>"
      ]
    },
    {
      "cell_type": "code",
      "metadata": {
        "id": "swfAZmMVqk2y"
      },
      "source": [
        "def distinct(string, i, j): \n",
        "    visited = [0] * (26) \n",
        "  \n",
        "    for k in range(i, j + 1): \n",
        "        if (visited[ord(string[k]) - \n",
        "                   ord('a')] == True): \n",
        "            return False\n",
        "              \n",
        "        visited[ord(string[k]) -\n",
        "                ord('a')] = True\n",
        "  \n",
        "    return True\n",
        "def UniqueSub(string): \n",
        "      \n",
        "    n = len(string) \n",
        "    res = 0 \n",
        "      \n",
        "    for i in range(n): \n",
        "        for j in range(i, n): \n",
        "            if (distinct(string, i, j)): \n",
        "                res = max(res, j - i + 1) \n",
        "                  \n",
        "    return res \n",
        "  \n",
        "\n",
        "if _name_ == '_main_': \n",
        "      \n",
        "    string = input()\n",
        "    l = UniqueSub(string) \n",
        "    print(l)\n",
        "    "
      ],
      "execution_count": null,
      "outputs": []
    }
  ]
}